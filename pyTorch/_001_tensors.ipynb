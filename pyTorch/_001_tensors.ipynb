{
  "nbformat": 4,
  "nbformat_minor": 0,
  "metadata": {
    "colab": {
      "provenance": [],
      "authorship_tag": "ABX9TyOd0RQwEYQJfvpgG9FCfFH9",
      "include_colab_link": true
    },
    "kernelspec": {
      "name": "python3",
      "display_name": "Python 3"
    },
    "language_info": {
      "name": "python"
    }
  },
  "cells": [
    {
      "cell_type": "markdown",
      "metadata": {
        "id": "view-in-github",
        "colab_type": "text"
      },
      "source": [
        "<a href=\"https://colab.research.google.com/github/IrfanKpm/machine-learning-diaries/blob/main/pyTorch/_001_tensors.ipynb\" target=\"_parent\"><img src=\"https://colab.research.google.com/assets/colab-badge.svg\" alt=\"Open In Colab\"/></a>"
      ]
    },
    {
      "cell_type": "code",
      "execution_count": null,
      "metadata": {
        "id": "2hcof8V_zH4r"
      },
      "outputs": [],
      "source": [
        "import torch\n",
        "import numpy as np"
      ]
    },
    {
      "cell_type": "code",
      "source": [
        "print(torch.__version__)"
      ],
      "metadata": {
        "colab": {
          "base_uri": "https://localhost:8080/"
        },
        "id": "rT4BDFHTzn0R",
        "outputId": "cc018334-339d-46cf-8597-685fa6a2b0c4"
      },
      "execution_count": null,
      "outputs": [
        {
          "output_type": "stream",
          "name": "stdout",
          "text": [
            "2.4.1+cu121\n"
          ]
        }
      ]
    },
    {
      "cell_type": "markdown",
      "source": [
        "**Introduction to Tensors**\n",
        "\n",
        "***What is a Tensor?***\n",
        "\n",
        "A tensor is a generalization of matrices to more dimensions. Tensors are a core data structure in PyTorch, and they can represent:\n",
        "\n",
        "- Scalars (0-dimensional tensors)\n",
        "- Vectors (1-dimensional tensors)\n",
        "- Matrices (2-dimensional tensors)\n",
        "- And higher-dimensional arrays (3D, 4D, etc.)\n",
        "\n",
        "Tensors in PyTorch are similar to NumPy arrays, but with the added advantage of being able to run on GPUs, which makes them powerful for deep learning tasks."
      ],
      "metadata": {
        "id": "HSb1f3hk0c67"
      }
    },
    {
      "cell_type": "code",
      "source": [
        "  # scalar tensor\n",
        "s1 = torch.tensor(4)\n",
        "s1"
      ],
      "metadata": {
        "colab": {
          "base_uri": "https://localhost:8080/"
        },
        "id": "rTRbOjPEz6Tk",
        "outputId": "cdfa2a7f-c114-4f6e-98e4-fbecf37e0fd8"
      },
      "execution_count": null,
      "outputs": [
        {
          "output_type": "execute_result",
          "data": {
            "text/plain": [
              "tensor(4)"
            ]
          },
          "metadata": {},
          "execution_count": 22
        }
      ]
    },
    {
      "cell_type": "code",
      "source": [
        "# Create a tensor from a list\n",
        "tensor = torch.tensor([1, 2, 3, 4, 5])\n",
        "print(tensor)  # Output: tensor([1, 2, 3, 4, 5])\n",
        "print(tensor.dtype)  # Output: torch.int64 (by default it's int64)"
      ],
      "metadata": {
        "colab": {
          "base_uri": "https://localhost:8080/"
        },
        "id": "3dJOPuzc0hO3",
        "outputId": "9c3f4a8d-031f-440a-a5c5-2e7cb1358d04"
      },
      "execution_count": null,
      "outputs": [
        {
          "output_type": "stream",
          "name": "stdout",
          "text": [
            "tensor([1, 2, 3, 4, 5])\n",
            "torch.int64\n"
          ]
        }
      ]
    },
    {
      "cell_type": "code",
      "source": [
        "print(tensor)\n",
        "print(tensor.shape)\n",
        "print(tensor.ndim)"
      ],
      "metadata": {
        "colab": {
          "base_uri": "https://localhost:8080/"
        },
        "id": "ME9pRtD8-KkX",
        "outputId": "71491877-b9b7-48a0-b720-055e05a71d54"
      },
      "execution_count": null,
      "outputs": [
        {
          "output_type": "stream",
          "name": "stdout",
          "text": [
            "tensor([1, 2, 3, 4, 5])\n",
            "torch.Size([5])\n",
            "1\n"
          ]
        }
      ]
    },
    {
      "cell_type": "code",
      "source": [
        "# Create a tensor with a specific data type\n",
        "float_tensor = torch.tensor([1, 2, 3], dtype=torch.float32)\n",
        "print(float_tensor)  # Output: tensor([1., 2., 3.])\n",
        "print(float_tensor.dtype)  # Output: torch.float32"
      ],
      "metadata": {
        "colab": {
          "base_uri": "https://localhost:8080/"
        },
        "id": "0Qyf5oKV1V7L",
        "outputId": "b2faacae-b398-464d-f5b0-a4f3aa0956f9"
      },
      "execution_count": null,
      "outputs": [
        {
          "output_type": "stream",
          "name": "stdout",
          "text": [
            "tensor([1., 2., 3.])\n",
            "torch.float32\n"
          ]
        }
      ]
    },
    {
      "cell_type": "code",
      "source": [
        "# Create a random tensor with a shape of 2 rows and 3 columns\n",
        "random_tensor = torch.rand(2, 3)\n",
        "print(random_tensor)"
      ],
      "metadata": {
        "colab": {
          "base_uri": "https://localhost:8080/"
        },
        "id": "XPZ_deqZ1faU",
        "outputId": "cff89a29-0162-4420-a463-a5a83b4e9548"
      },
      "execution_count": null,
      "outputs": [
        {
          "output_type": "stream",
          "name": "stdout",
          "text": [
            "tensor([[0.8102, 0.6952, 0.0065],\n",
            "        [0.5246, 0.5331, 0.8465]])\n"
          ]
        }
      ]
    },
    {
      "cell_type": "code",
      "source": [
        "# Create a random integer tensor with values between 0 and 10, shape of 2 rows and 3 columns\n",
        "random_tensor = torch.randint(low=0, high=10, size=(2, 3), dtype=torch.int32)\n",
        "print(random_tensor)"
      ],
      "metadata": {
        "colab": {
          "base_uri": "https://localhost:8080/"
        },
        "id": "J4EY9nBL9aB8",
        "outputId": "626340eb-4b8a-4dc0-b5ee-8c1448dd15f6"
      },
      "execution_count": null,
      "outputs": [
        {
          "output_type": "stream",
          "name": "stdout",
          "text": [
            "tensor([[0, 0, 3],\n",
            "        [9, 7, 5]], dtype=torch.int32)\n"
          ]
        }
      ]
    },
    {
      "cell_type": "code",
      "source": [
        "# Tensor filled with zeros\n",
        "zero_tensor = torch.zeros(3, 3)\n",
        "# Tensor filled with ones\n",
        "ones_tensor = torch.ones(2, 2)\n",
        "\n",
        "print(zero_tensor)\n",
        "print()\n",
        "print(ones_tensor)"
      ],
      "metadata": {
        "colab": {
          "base_uri": "https://localhost:8080/"
        },
        "id": "KXZMUkOd1ygS",
        "outputId": "9823f5ea-8d4e-4d9a-b9e7-c8a9566659ad"
      },
      "execution_count": null,
      "outputs": [
        {
          "output_type": "stream",
          "name": "stdout",
          "text": [
            "tensor([[0., 0., 0.],\n",
            "        [0., 0., 0.],\n",
            "        [0., 0., 0.]])\n",
            "\n",
            "tensor([[1., 1.],\n",
            "        [1., 1.]])\n"
          ]
        }
      ]
    },
    {
      "cell_type": "code",
      "source": [
        "# Create a tensor with shape (2, 3)\n",
        "r1 = torch.tensor([[1, 2, 3], [4, 5, 6]])\n",
        "print(r1) #print r1\n",
        "# Check the shape of the r1\n",
        "print(\"\\n\",r1.shape)  # Output: torch.Size([2, 3])\n",
        "# Reshape the tensor to shape (3, 2)\n",
        "reshaped_tensor = r1.view(3, 2)\n",
        "print(\"\\n\",reshaped_tensor)"
      ],
      "metadata": {
        "colab": {
          "base_uri": "https://localhost:8080/"
        },
        "id": "PYGHTZ2e1-ky",
        "outputId": "d4b9c3fb-b398-4b53-a41b-30838c9f23a8"
      },
      "execution_count": null,
      "outputs": [
        {
          "output_type": "stream",
          "name": "stdout",
          "text": [
            "tensor([[1, 2, 3],\n",
            "        [4, 5, 6]])\n",
            "\n",
            " torch.Size([2, 3])\n",
            "\n",
            " tensor([[1, 2],\n",
            "        [3, 4],\n",
            "        [5, 6]])\n"
          ]
        }
      ]
    },
    {
      "cell_type": "code",
      "source": [
        "  # Normal Distribution\n",
        "mean = 0.0\n",
        "std = 1.0\n",
        "random_tensor = torch.normal(mean=mean, std=std, size=(2, 3))\n",
        "print(random_tensor)"
      ],
      "metadata": {
        "colab": {
          "base_uri": "https://localhost:8080/"
        },
        "id": "JD-Oxpak9yww",
        "outputId": "f155c944-1274-47d8-aaaf-dcf73f799f6f"
      },
      "execution_count": null,
      "outputs": [
        {
          "output_type": "stream",
          "name": "stdout",
          "text": [
            "tensor([[ 1.0300, -1.9355, -1.2437],\n",
            "        [-0.3383,  0.3734, -1.0481]])\n"
          ]
        }
      ]
    },
    {
      "cell_type": "markdown",
      "source": [
        "**Manipulating tensors (tensor operations)**"
      ],
      "metadata": {
        "id": "sVhEjLEsAIlX"
      }
    },
    {
      "cell_type": "code",
      "source": [
        "# Create a tensor of values and add a number to it\n",
        "tensor = torch.tensor([1, 2, 3])\n",
        "tensor + 10"
      ],
      "metadata": {
        "colab": {
          "base_uri": "https://localhost:8080/"
        },
        "id": "9IT9Faa_91xl",
        "outputId": "7b294d05-1545-4a63-eccb-85c51cf6ce9d"
      },
      "execution_count": null,
      "outputs": [
        {
          "output_type": "execute_result",
          "data": {
            "text/plain": [
              "tensor([11, 12, 13])"
            ]
          },
          "metadata": {},
          "execution_count": 36
        }
      ]
    },
    {
      "cell_type": "code",
      "source": [
        "# Multiply it by 10\n",
        "tensor * 10"
      ],
      "metadata": {
        "colab": {
          "base_uri": "https://localhost:8080/"
        },
        "id": "5AgVp00LAPwg",
        "outputId": "857f692e-bb90-4bdb-9279-61a1ae91d63e"
      },
      "execution_count": null,
      "outputs": [
        {
          "output_type": "execute_result",
          "data": {
            "text/plain": [
              "tensor([10, 20, 30])"
            ]
          },
          "metadata": {},
          "execution_count": 37
        }
      ]
    },
    {
      "cell_type": "code",
      "source": [
        "# Tensors don't change unless reassigned\n",
        "tensor"
      ],
      "metadata": {
        "colab": {
          "base_uri": "https://localhost:8080/"
        },
        "id": "Qc4h-4ffAR_O",
        "outputId": "4c74fdd5-2335-4f23-d89f-54dec961b15c"
      },
      "execution_count": null,
      "outputs": [
        {
          "output_type": "execute_result",
          "data": {
            "text/plain": [
              "tensor([1, 2, 3])"
            ]
          },
          "metadata": {},
          "execution_count": 38
        }
      ]
    },
    {
      "cell_type": "code",
      "source": [
        "# Subtract and reassign\n",
        "tensor = tensor - 10\n",
        "tensor"
      ],
      "metadata": {
        "colab": {
          "base_uri": "https://localhost:8080/"
        },
        "id": "0-JEZJrWAUl0",
        "outputId": "a43159e4-b922-4a47-dbae-18c0b68d3a9d"
      },
      "execution_count": null,
      "outputs": [
        {
          "output_type": "execute_result",
          "data": {
            "text/plain": [
              "tensor([-9, -8, -7])"
            ]
          },
          "metadata": {},
          "execution_count": 39
        }
      ]
    },
    {
      "cell_type": "code",
      "source": [
        "# Add and reassign\n",
        "tensor = tensor + 10\n",
        "tensor"
      ],
      "metadata": {
        "colab": {
          "base_uri": "https://localhost:8080/"
        },
        "id": "_3OSQ8pTAWEm",
        "outputId": "34e7e4fe-5edd-4b9d-a839-ed043da1c940"
      },
      "execution_count": null,
      "outputs": [
        {
          "output_type": "execute_result",
          "data": {
            "text/plain": [
              "tensor([1, 2, 3])"
            ]
          },
          "metadata": {},
          "execution_count": 40
        }
      ]
    },
    {
      "cell_type": "code",
      "source": [
        "# Element-wise multiplication (each element multiplies its equivalent, index 0->0, 1->1, 2->2)\n",
        "print(tensor, \"*\", tensor)\n",
        "print(\"Equals:\", tensor * tensor)"
      ],
      "metadata": {
        "colab": {
          "base_uri": "https://localhost:8080/"
        },
        "id": "8tx87A5NAY9w",
        "outputId": "06531db2-2574-45e7-d524-7b92d204552b"
      },
      "execution_count": null,
      "outputs": [
        {
          "output_type": "stream",
          "name": "stdout",
          "text": [
            "tensor([1, 2, 3]) * tensor([1, 2, 3])\n",
            "Equals: tensor([1, 4, 9])\n"
          ]
        }
      ]
    },
    {
      "cell_type": "code",
      "source": [
        "# Create a random tensor t1 with integers between 10 and 19, shape (2, 3)\n",
        "t1 = torch.randint(low=10, high=20, size=(2, 3))\n",
        "# Create a random tensor t2 with integers between 0 and 9, shape (3, 2)\n",
        "t2 = torch.randint(low=0, high=10, size=(3, 2))\n",
        "print(t1)  # Print t1 tensor\n",
        "print(t2)  # Print t2 tensor\n",
        "# Perform matrix multiplication using the @ operator\n",
        "print(t1 @ t2)"
      ],
      "metadata": {
        "colab": {
          "base_uri": "https://localhost:8080/"
        },
        "id": "rjxgSMeqAgv_",
        "outputId": "da1ec1e1-32cc-48f8-fa3f-2697a387deea"
      },
      "execution_count": null,
      "outputs": [
        {
          "output_type": "stream",
          "name": "stdout",
          "text": [
            "tensor([[12, 16, 17],\n",
            "        [13, 18, 15]])\n",
            "tensor([[1, 1],\n",
            "        [0, 2],\n",
            "        [9, 4]])\n",
            "tensor([[165, 112],\n",
            "        [148, 109]])\n"
          ]
        }
      ]
    },
    {
      "cell_type": "markdown",
      "source": [
        "**Finding the min, max, mean, sum, etc (aggregation)**"
      ],
      "metadata": {
        "id": "iw2pPuDnBJSg"
      }
    },
    {
      "cell_type": "code",
      "source": [
        "x = torch.arange(0, 100, 10)\n",
        "x"
      ],
      "metadata": {
        "colab": {
          "base_uri": "https://localhost:8080/"
        },
        "id": "yEL9s0REA4sK",
        "outputId": "3c560f95-f0e7-4a50-ac08-088a8c03c63a"
      },
      "execution_count": null,
      "outputs": [
        {
          "output_type": "execute_result",
          "data": {
            "text/plain": [
              "tensor([ 0, 10, 20, 30, 40, 50, 60, 70, 80, 90])"
            ]
          },
          "metadata": {},
          "execution_count": 46
        }
      ]
    },
    {
      "cell_type": "code",
      "source": [
        "print(f\"Minimum: {x.min()}\")\n",
        "print(f\"Maximum: {x.max()}\")\n",
        "# print(f\"Mean: {x.mean()}\") # this will error\n",
        "print(f\"Mean: {x.type(torch.float32).mean()}\") # won't work without float datatype\n",
        "print(f\"Sum: {x.sum()}\")"
      ],
      "metadata": {
        "colab": {
          "base_uri": "https://localhost:8080/"
        },
        "id": "V7s1EciTBPku",
        "outputId": "da043169-b13f-4fa7-8709-4127d980de31"
      },
      "execution_count": null,
      "outputs": [
        {
          "output_type": "stream",
          "name": "stdout",
          "text": [
            "Minimum: 0\n",
            "Maximum: 90\n",
            "Mean: 45.0\n",
            "Sum: 450\n"
          ]
        }
      ]
    },
    {
      "cell_type": "code",
      "source": [
        "# Create a tensor\n",
        "tensor = torch.arange(10, 100, 10)\n",
        "print(f\"Tensor: {tensor}\")\n",
        "\n",
        "# Returns index of max and min values\n",
        "print(f\"Index where max value occurs: {tensor.argmax()}\")\n",
        "print(f\"Index where min value occurs: {tensor.argmin()}\")"
      ],
      "metadata": {
        "colab": {
          "base_uri": "https://localhost:8080/"
        },
        "id": "sedEG2jWBSfA",
        "outputId": "e915f925-733a-4d5c-b0cb-8f9421a3996d"
      },
      "execution_count": null,
      "outputs": [
        {
          "output_type": "stream",
          "name": "stdout",
          "text": [
            "Tensor: tensor([10, 20, 30, 40, 50, 60, 70, 80, 90])\n",
            "Index where max value occurs: 8\n",
            "Index where min value occurs: 0\n"
          ]
        }
      ]
    },
    {
      "cell_type": "code",
      "source": [],
      "metadata": {
        "id": "SWflC6i9B18B"
      },
      "execution_count": null,
      "outputs": []
    },
    {
      "cell_type": "code",
      "source": [
        "# NumPy array to tensor\n",
        "array = np.arange(1.0, 8.0)\n",
        "tensor = torch.from_numpy(array)\n",
        "array, tensor"
      ],
      "metadata": {
        "colab": {
          "base_uri": "https://localhost:8080/"
        },
        "id": "OAChSCsmBz0r",
        "outputId": "b2f6f04f-f1c4-4ac8-cb24-ae3585481fe5"
      },
      "execution_count": null,
      "outputs": [
        {
          "output_type": "execute_result",
          "data": {
            "text/plain": [
              "(array([1., 2., 3., 4., 5., 6., 7.]),\n",
              " tensor([1., 2., 3., 4., 5., 6., 7.], dtype=torch.float64))"
            ]
          },
          "metadata": {},
          "execution_count": 50
        }
      ]
    },
    {
      "cell_type": "code",
      "source": [
        "# Tensor to NumPy array\n",
        "tensor = torch.ones(7) # create a tensor of ones with dtype=float32\n",
        "numpy_tensor = tensor.numpy() # will be dtype=float32 unless changed\n",
        "tensor, numpy_tensor"
      ],
      "metadata": {
        "colab": {
          "base_uri": "https://localhost:8080/"
        },
        "id": "mEu2QrOcB5pK",
        "outputId": "9fc724fa-0e49-4bd4-bc56-57b9b6242ac1"
      },
      "execution_count": null,
      "outputs": [
        {
          "output_type": "execute_result",
          "data": {
            "text/plain": [
              "(tensor([1., 1., 1., 1., 1., 1., 1.]),\n",
              " array([1., 1., 1., 1., 1., 1., 1.], dtype=float32))"
            ]
          },
          "metadata": {},
          "execution_count": 51
        }
      ]
    }
  ]
}