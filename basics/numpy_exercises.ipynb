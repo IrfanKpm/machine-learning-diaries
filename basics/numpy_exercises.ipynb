{
  "nbformat": 4,
  "nbformat_minor": 0,
  "metadata": {
    "colab": {
      "provenance": [],
      "authorship_tag": "ABX9TyM8FO6YQlNzHo/oBmwHw7YX",
      "include_colab_link": true
    },
    "kernelspec": {
      "name": "python3",
      "display_name": "Python 3"
    },
    "language_info": {
      "name": "python"
    }
  },
  "cells": [
    {
      "cell_type": "markdown",
      "metadata": {
        "id": "view-in-github",
        "colab_type": "text"
      },
      "source": [
        "<a href=\"https://colab.research.google.com/github/IrfanKpm/machine-learning-diaries/blob/main/basics/numpy_exercises.ipynb\" target=\"_parent\"><img src=\"https://colab.research.google.com/assets/colab-badge.svg\" alt=\"Open In Colab\"/></a>"
      ]
    },
    {
      "cell_type": "code",
      "source": [
        "import numpy as np"
      ],
      "metadata": {
        "id": "45ASbCEpgDhJ"
      },
      "execution_count": 1,
      "outputs": []
    },
    {
      "cell_type": "markdown",
      "source": [
        "1. Create a numpy array of integers from 1 to 10."
      ],
      "metadata": {
        "id": "1tT467Oqen3e"
      }
    },
    {
      "cell_type": "code",
      "execution_count": 3,
      "metadata": {
        "colab": {
          "base_uri": "https://localhost:8080/"
        },
        "id": "w8GtJeQxehcW",
        "outputId": "9e2650e4-bf53-43c1-ec7c-5aed5a758da0"
      },
      "outputs": [
        {
          "output_type": "execute_result",
          "data": {
            "text/plain": [
              "array([ 1,  2,  3,  4,  5,  6,  7,  8,  9, 10])"
            ]
          },
          "metadata": {},
          "execution_count": 3
        }
      ],
      "source": [
        "a1 = np.arange(1,11)\n",
        "a1"
      ]
    },
    {
      "cell_type": "markdown",
      "source": [
        "2. Generate a 3x3 matrix with values ranging from 0 to 8."
      ],
      "metadata": {
        "id": "K4MdolMYeru8"
      }
    },
    {
      "cell_type": "code",
      "source": [
        "a2 = np.arange(0,9).reshape(3,3)\n",
        "a2"
      ],
      "metadata": {
        "colab": {
          "base_uri": "https://localhost:8080/"
        },
        "id": "ftoUeR1qgMYY",
        "outputId": "b34b9e70-5f78-4056-b9cc-51e7bac0e836"
      },
      "execution_count": 4,
      "outputs": [
        {
          "output_type": "execute_result",
          "data": {
            "text/plain": [
              "array([[0, 1, 2],\n",
              "       [3, 4, 5],\n",
              "       [6, 7, 8]])"
            ]
          },
          "metadata": {},
          "execution_count": 4
        }
      ]
    },
    {
      "cell_type": "markdown",
      "source": [
        "3. Create an array of 12 zeros , in 4*3"
      ],
      "metadata": {
        "id": "jZOfvvbXerrT"
      }
    },
    {
      "cell_type": "code",
      "source": [
        "a3 = np.zeros(12).reshape(4,3)\n",
        "a3"
      ],
      "metadata": {
        "colab": {
          "base_uri": "https://localhost:8080/"
        },
        "id": "aNeoBiPegZCY",
        "outputId": "d5880d7c-5090-4f0a-f36f-2e8a105aecc2"
      },
      "execution_count": 5,
      "outputs": [
        {
          "output_type": "execute_result",
          "data": {
            "text/plain": [
              "array([[0., 0., 0.],\n",
              "       [0., 0., 0.],\n",
              "       [0., 0., 0.],\n",
              "       [0., 0., 0.]])"
            ]
          },
          "metadata": {},
          "execution_count": 5
        }
      ]
    },
    {
      "cell_type": "markdown",
      "source": [
        "4. Create an array of 12 ones."
      ],
      "metadata": {
        "id": "AwAZW2rcern7"
      }
    },
    {
      "cell_type": "code",
      "source": [
        "a4 = np.ones(12).reshape(2,6)\n",
        "a4"
      ],
      "metadata": {
        "colab": {
          "base_uri": "https://localhost:8080/"
        },
        "id": "GG-lt_vwgq2V",
        "outputId": "51ce8554-1bb3-41d7-8960-9e8272826c06"
      },
      "execution_count": 7,
      "outputs": [
        {
          "output_type": "execute_result",
          "data": {
            "text/plain": [
              "array([[1., 1., 1., 1., 1., 1.],\n",
              "       [1., 1., 1., 1., 1., 1.]])"
            ]
          },
          "metadata": {},
          "execution_count": 7
        }
      ]
    },
    {
      "cell_type": "markdown",
      "source": [
        "5. Create a 3x3 matrix with random integers between 0 and 10."
      ],
      "metadata": {
        "id": "ejiOjkPjeri2"
      }
    },
    {
      "cell_type": "code",
      "source": [
        "a5 = np.random.randint(0,10,size=(3,3))\n",
        "a5"
      ],
      "metadata": {
        "colab": {
          "base_uri": "https://localhost:8080/"
        },
        "id": "uO7uJNvsg4QU",
        "outputId": "5e45f376-d088-47e4-eca2-02ae340cca70"
      },
      "execution_count": 8,
      "outputs": [
        {
          "output_type": "execute_result",
          "data": {
            "text/plain": [
              "array([[8, 9, 7],\n",
              "       [1, 3, 0],\n",
              "       [8, 9, 3]])"
            ]
          },
          "metadata": {},
          "execution_count": 8
        }
      ]
    },
    {
      "cell_type": "markdown",
      "source": [
        "6. Perform element-wise addition, subtraction, multiplication, and division on two arrays."
      ],
      "metadata": {
        "id": "3oh26S_5e-GS"
      }
    },
    {
      "cell_type": "code",
      "source": [
        "arr1 = np.array([6,3,8,0])\n",
        "arr2 = np.array([8,1,5,5])\n",
        "\n",
        "np.add(arr1, arr2), np.subtract(arr1, arr2), np.multiply(arr1, arr2), np.divide(arr1, arr2)"
      ],
      "metadata": {
        "colab": {
          "base_uri": "https://localhost:8080/"
        },
        "id": "3hhB1ztyhIa9",
        "outputId": "059f6b99-30d3-4d83-9480-db185b5a2b85"
      },
      "execution_count": 13,
      "outputs": [
        {
          "output_type": "execute_result",
          "data": {
            "text/plain": [
              "(array([14,  4, 13,  5]),\n",
              " array([-2,  2,  3, -5]),\n",
              " array([48,  3, 40,  0]),\n",
              " array([0.75, 3.  , 1.6 , 0.  ]))"
            ]
          },
          "metadata": {},
          "execution_count": 13
        }
      ]
    },
    {
      "cell_type": "markdown",
      "source": [
        "7. Create a 4x4 identity matrix."
      ],
      "metadata": {
        "id": "snCkYSane-Pz"
      }
    },
    {
      "cell_type": "code",
      "source": [
        "a7 = np.eye(4)\n",
        "a7"
      ],
      "metadata": {
        "colab": {
          "base_uri": "https://localhost:8080/"
        },
        "id": "BoZ-f2tAh43m",
        "outputId": "57d65d8d-88ee-47a7-eb0d-c0aac27bc6d8"
      },
      "execution_count": 16,
      "outputs": [
        {
          "output_type": "execute_result",
          "data": {
            "text/plain": [
              "array([[1., 0., 0., 0.],\n",
              "       [0., 1., 0., 0.],\n",
              "       [0., 0., 1., 0.],\n",
              "       [0., 0., 0., 1.]])"
            ]
          },
          "metadata": {},
          "execution_count": 16
        }
      ]
    },
    {
      "cell_type": "markdown",
      "source": [
        "8. Create a 2D array and find its shape"
      ],
      "metadata": {
        "id": "E2ZImIWLfOxi"
      }
    },
    {
      "cell_type": "code",
      "source": [
        "a8 = np.array([[1,7,3,9],[9,4,0,2]])\n",
        "print(a8.shape)"
      ],
      "metadata": {
        "colab": {
          "base_uri": "https://localhost:8080/"
        },
        "id": "krQTZcdOiGxN",
        "outputId": "a4d08ba3-1276-4df4-d308-67d5b1ab541f"
      },
      "execution_count": 17,
      "outputs": [
        {
          "output_type": "stream",
          "name": "stdout",
          "text": [
            "(2, 4)\n"
          ]
        }
      ]
    },
    {
      "cell_type": "markdown",
      "source": [
        "9. Convert an integer array to float."
      ],
      "metadata": {
        "id": "11SUnHzUfO0w"
      }
    },
    {
      "cell_type": "code",
      "source": [
        "a9 = np.array([1, 2, 3])\n",
        "a9.astype(float)\n",
        "a9"
      ],
      "metadata": {
        "colab": {
          "base_uri": "https://localhost:8080/"
        },
        "id": "bCOwEWwXiTTc",
        "outputId": "3b8de8ce-f3a4-4bc2-8047-b07a384851a9"
      },
      "execution_count": 19,
      "outputs": [
        {
          "output_type": "execute_result",
          "data": {
            "text/plain": [
              "array([1, 2, 3])"
            ]
          },
          "metadata": {},
          "execution_count": 19
        }
      ]
    },
    {
      "cell_type": "markdown",
      "source": [
        "10. Reverse the elements of a numpy array."
      ],
      "metadata": {
        "id": "kb2w9QF1fO4H"
      }
    },
    {
      "cell_type": "code",
      "source": [
        "a10 = np.array([1, 2, 3,4,5,6])\n",
        "a10 = a10[::-1]\n",
        "a10"
      ],
      "metadata": {
        "colab": {
          "base_uri": "https://localhost:8080/"
        },
        "id": "eyso_OrqisGZ",
        "outputId": "029c408d-10d9-4d49-d505-02682f639f6f"
      },
      "execution_count": 25,
      "outputs": [
        {
          "output_type": "execute_result",
          "data": {
            "text/plain": [
              "array([6, 5, 4, 3, 2, 1])"
            ]
          },
          "metadata": {},
          "execution_count": 25
        }
      ]
    },
    {
      "cell_type": "markdown",
      "source": [
        "11. Find the sum of elements in each row and each column of a 3x3 matrix."
      ],
      "metadata": {
        "id": "ZIv-Y6u4fO6r"
      }
    },
    {
      "cell_type": "code",
      "source": [
        "a11 = np.random.randint(0,10,size=(3,3))\n",
        "print(a11)\n",
        "print()\n",
        "print(a11.sum(axis=0))\n",
        "print(a11.sum(axis=1))"
      ],
      "metadata": {
        "colab": {
          "base_uri": "https://localhost:8080/"
        },
        "id": "e7KZ8KIBjLsS",
        "outputId": "6657e099-2e26-4f97-8295-63b573f97309"
      },
      "execution_count": 30,
      "outputs": [
        {
          "output_type": "stream",
          "name": "stdout",
          "text": [
            "[[6 4 6]\n",
            " [3 4 6]\n",
            " [2 2 8]]\n",
            "\n",
            "[11 10 20]\n",
            "[16 13 12]\n"
          ]
        }
      ]
    },
    {
      "cell_type": "markdown",
      "source": [
        "12. Find unique elements in a numpy array"
      ],
      "metadata": {
        "id": "6i9XICKTfO9y"
      }
    },
    {
      "cell_type": "code",
      "source": [
        "a12 = np.array([3,7,7,5,3,9])\n",
        "np.unique(a12)"
      ],
      "metadata": {
        "colab": {
          "base_uri": "https://localhost:8080/"
        },
        "id": "iF7FTirijssA",
        "outputId": "5639d2ef-3e1d-447d-81cc-04b96a190be5"
      },
      "execution_count": 32,
      "outputs": [
        {
          "output_type": "execute_result",
          "data": {
            "text/plain": [
              "array([3, 5, 7, 9])"
            ]
          },
          "metadata": {},
          "execution_count": 32
        }
      ]
    },
    {
      "cell_type": "markdown",
      "source": [
        "13. Use boolean indexing to filter elements greater than a specific value in an array."
      ],
      "metadata": {
        "id": "r43QBceMfPAw"
      }
    },
    {
      "cell_type": "code",
      "source": [
        "a13 = np.array([6,3,8,7,0,13,5])\n",
        "a13[a13>6]"
      ],
      "metadata": {
        "colab": {
          "base_uri": "https://localhost:8080/"
        },
        "id": "XxRvXx1Sj9fW",
        "outputId": "044dca1b-87f9-4bbd-8404-2c3f9d8b259c"
      },
      "execution_count": 34,
      "outputs": [
        {
          "output_type": "execute_result",
          "data": {
            "text/plain": [
              "array([ 8,  7, 13])"
            ]
          },
          "metadata": {},
          "execution_count": 34
        }
      ]
    },
    {
      "cell_type": "markdown",
      "source": [
        "14. Create an array of 5 evenly spaced numbers between 0 and 1"
      ],
      "metadata": {
        "id": "dAHdsTookRYy"
      }
    },
    {
      "cell_type": "code",
      "source": [
        "a14 = np.linspace(0,1,5)\n",
        "a14"
      ],
      "metadata": {
        "colab": {
          "base_uri": "https://localhost:8080/"
        },
        "id": "l3wKqwAzkSr7",
        "outputId": "79367fad-3d14-4f72-c4a1-451ea0c57ae2"
      },
      "execution_count": 35,
      "outputs": [
        {
          "output_type": "execute_result",
          "data": {
            "text/plain": [
              "array([0.  , 0.25, 0.5 , 0.75, 1.  ])"
            ]
          },
          "metadata": {},
          "execution_count": 35
        }
      ]
    },
    {
      "cell_type": "markdown",
      "source": [
        "15. Transpose a 3x3 matrix"
      ],
      "metadata": {
        "id": "9bX4uJ2-kfqJ"
      }
    },
    {
      "cell_type": "code",
      "source": [
        "a15 = np.random.randint(4,16,size=(3,3))\n",
        "print(a15)\n",
        "print()\n",
        "print(a15.T)"
      ],
      "metadata": {
        "colab": {
          "base_uri": "https://localhost:8080/"
        },
        "id": "l1e5lFdHkibi",
        "outputId": "8b185f79-923e-4f04-82ab-62669da40098"
      },
      "execution_count": 37,
      "outputs": [
        {
          "output_type": "stream",
          "name": "stdout",
          "text": [
            "[[12 11 13]\n",
            " [ 5  8  4]\n",
            " [ 4 12  7]]\n",
            "\n",
            "[[12  5  4]\n",
            " [11  8 12]\n",
            " [13  4  7]]\n"
          ]
        }
      ]
    }
  ]
}